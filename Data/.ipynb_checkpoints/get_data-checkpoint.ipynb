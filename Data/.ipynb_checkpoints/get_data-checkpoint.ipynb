{
 "cells": [
  {
   "cell_type": "code",
   "execution_count": 32,
   "id": "377166e6-5ba4-4e4f-b46a-afe77b795915",
   "metadata": {},
   "outputs": [],
   "source": [
    "from nba_api.stats.endpoints import ShotChartDetail, LeagueGameLog, BoxScorePlayerTrackV3, BoxScoreAdvancedV3, playbyplayv3, SynergyPlayTypes\n",
    "import pandas as pd\n",
    "import time\n",
    "seasons = ['2020-21','2021-22','2022-23','2023-24']\n"
   ]
  },
  {
   "cell_type": "markdown",
   "id": "d83ad7f2-d5bf-47ea-b1ac-74ee4ff583eb",
   "metadata": {},
   "source": [
    "# Data Fetching\n",
    "Data gathered through the NBA API with the basic pattern for most endpoints being get the games in a season and query the endpoint for each game. Play type data is not done on a game by game basis so is retrived sepratly. "
   ]
  },
  {
   "cell_type": "code",
   "execution_count": 2,
   "id": "b535f327-6a8c-45d8-841d-07d8a4c610e9",
   "metadata": {},
   "outputs": [],
   "source": [
    "def get_game_ids(season, season_type='Regular Season'):\n",
    "    game_log = LeagueGameLog(season=season, season_type_all_star=season_type).get_data_frames()[0]\n",
    "    game_ids = game_log['GAME_ID'].unique().tolist()\n",
    "    return game_ids\n",
    "\n",
    "def get_data(game_ids):\n",
    "    play_by_play_data = []\n",
    "    shotchart_data = []\n",
    "    playertracking_data = []\n",
    "    advanced_data = []\n",
    "    \n",
    "    for game_id in game_ids:\n",
    "        try:\n",
    "            #play by play\n",
    "            try:\n",
    "                play_by_play = playbyplayv3.PlayByPlayV3(game_id=game_id).get_data_frames()[0]\n",
    "                play_by_play['GAME_ID'] = game_id\n",
    "                play_by_play_data.append(play_by_play)\n",
    "            except Exception as e:\n",
    "                print(f\"Failed PlayByPlayV2 for {game_id}: {e}\")\n",
    "                time.sleep(1)\n",
    "                \n",
    "            #ShotChartDetail\n",
    "            try:\n",
    "                shotchart = ShotChartDetail(game_id_nullable=game_id, team_id=0, player_id=0,context_measure_simple='FGA').get_data_frames()[0]\n",
    "                shotchart['GAME_ID'] = game_id\n",
    "                shotchart_data.append(shotchart)\n",
    "            except Exception as e:\n",
    "                print(f\"Failed ShotChartDetail for {game_id}: {e}\")\n",
    "                time.sleep(1) \n",
    "            \n",
    "            #BoxScorePlayerTrackV3\n",
    "            try:\n",
    "                player_tracking = BoxScorePlayerTrackV3(game_id=game_id).get_data_frames()[0]\n",
    "                player_tracking['GAME_ID'] = game_id\n",
    "                playertracking_data.append(player_tracking)\n",
    "            except Exception as e:\n",
    "                print(f\"Failed BoxScorePlayerTrackV3 for {game_id}: {e}\")\n",
    "                time.sleep(1)\n",
    "            \n",
    "            #BoxScoreAdvancedV3\n",
    "            try:\n",
    "                advanced_boxscore = BoxScoreAdvancedV3(game_id=game_id).get_data_frames()[0]\n",
    "                advanced_boxscore['GAME_ID'] = game_id\n",
    "                advanced_data.append(advanced_boxscore)\n",
    "            except Exception as e:\n",
    "                print(f\"Failed BoxScoreAdvancedV3 for {game_id}: {e}\")\n",
    "                time.sleep(1)\n",
    "            \n",
    "            # rate limiting\n",
    "            time.sleep(0.6)\n",
    "        \n",
    "        except Exception as e:\n",
    "            print(f\"Unexpected error for game {game_id}: {e}\")\n",
    "            time.sleep(10) \n",
    "    \n",
    "    # Concat dataframes only if data exists\n",
    "    shotchart_df = pd.concat(shotchart_data, ignore_index=True) if shotchart_data else pd.DataFrame()\n",
    "    playertracking_df = pd.concat(playertracking_data, ignore_index=True) if playertracking_data else pd.DataFrame()\n",
    "    advanced_df = pd.concat(advanced_data, ignore_index=True) if advanced_data else pd.DataFrame()\n",
    "    play_by_play_df = pd.concat(play_by_play_data, ignore_index=True) if play_by_play_data else pd.DataFrame()\n",
    "    \n",
    "    return shotchart_df, playertracking_df, advanced_df,play_by_play_df\n",
    "\n",
    "\n"
   ]
  },
  {
   "cell_type": "markdown",
   "id": "1d761b3d-2467-4455-ad7a-82a4375ead53",
   "metadata": {},
   "source": [
    "This takes a while NBA api rate limiting is brutal."
   ]
  },
  {
   "cell_type": "code",
   "execution_count": 3,
   "id": "570527e6-ec6b-49bf-83f5-d5fbd3ecf078",
   "metadata": {},
   "outputs": [
    {
     "name": "stdout",
     "output_type": "stream",
     "text": [
      "Failed PlayByPlayV2 for 0022100301: HTTPSConnectionPool(host='stats.nba.com', port=443): Read timed out.\n",
      "Failed PlayByPlayV2 for 0022100506: Expecting value: line 1 column 1 (char 0)\n",
      "Failed PlayByPlayV2 for 0022200707: HTTPSConnectionPool(host='stats.nba.com', port=443): Read timed out. (read timeout=30)\n"
     ]
    }
   ],
   "source": [
    "\n",
    "for season in seasons:\n",
    "    game_ids = get_game_ids(season = season)\n",
    "\n",
    "\n",
    "    shotchart_df, playertracking_df,advanced_box_df,play_by_play_df = get_data(game_ids)\n",
    "    \n",
    "    #names\n",
    "    shotchart_file = f\"{season}_shotchart_data.csv\"\n",
    "    playertracking_file = f\"{season}_playertracking_data.csv\"\n",
    "    advanced_box_file = f\"{season}_advanced_box_data.csv\"\n",
    "    play_by_play_file = f'{season}_play_by_play.csv'\n",
    "    \n",
    "    shotchart_df.to_csv(shotchart_file, index=False)\n",
    "    playertracking_df.to_csv(playertracking_file, index=False)\n",
    "    advanced_box_df.to_csv(advanced_box_file,index=False)\n",
    "    play_by_play_df.to_csv(play_by_play_file, index=False)\n",
    "    "
   ]
  },
  {
   "cell_type": "markdown",
   "id": "b3b45fe9-103a-4b9d-99c7-e37c8947e8a4",
   "metadata": {},
   "source": [
    "## To fix\n",
    "Failed PlayByPlayV2 for 0022100301: HTTPSConnectionPool(host='stats.nba.com', port=443): Read timed out.\n",
    "Failed PlayByPlayV2 for 0022100506: Expecting value: line 1 column 1 (char 0)\n",
    "Failed PlayByPlayV2 for 0022200707: HTTPSConnectionPool(host='stats.nba.com', port=443): Read timed out. (read timeout=30)\n",
    "\n",
    "\n",
    "### Get playType data"
   ]
  },
  {
   "cell_type": "code",
   "execution_count": 35,
   "id": "2a017703-a978-4be4-87eb-7bcece01efad",
   "metadata": {},
   "outputs": [
    {
     "name": "stderr",
     "output_type": "stream",
     "text": [
      "/tmp/ipykernel_98531/233088658.py:33: FutureWarning: The behavior of DataFrame concatenation with empty or all-NA entries is deprecated. In a future version, this will no longer exclude empty or all-NA columns when determining the result dtypes. To retain the old behavior, exclude the relevant entries before the concat operation.\n",
      "  synergy_df = pd.concat(synergy_data, ignore_index=True) if synergy_data else pd.DataFrame()\n",
      "/tmp/ipykernel_98531/233088658.py:33: FutureWarning: The behavior of DataFrame concatenation with empty or all-NA entries is deprecated. In a future version, this will no longer exclude empty or all-NA columns when determining the result dtypes. To retain the old behavior, exclude the relevant entries before the concat operation.\n",
      "  synergy_df = pd.concat(synergy_data, ignore_index=True) if synergy_data else pd.DataFrame()\n",
      "/tmp/ipykernel_98531/233088658.py:33: FutureWarning: The behavior of DataFrame concatenation with empty or all-NA entries is deprecated. In a future version, this will no longer exclude empty or all-NA columns when determining the result dtypes. To retain the old behavior, exclude the relevant entries before the concat operation.\n",
      "  synergy_df = pd.concat(synergy_data, ignore_index=True) if synergy_data else pd.DataFrame()\n",
      "/tmp/ipykernel_98531/233088658.py:33: FutureWarning: The behavior of DataFrame concatenation with empty or all-NA entries is deprecated. In a future version, this will no longer exclude empty or all-NA columns when determining the result dtypes. To retain the old behavior, exclude the relevant entries before the concat operation.\n",
      "  synergy_df = pd.concat(synergy_data, ignore_index=True) if synergy_data else pd.DataFrame()\n"
     ]
    }
   ],
   "source": [
    "league_id = '00'  # NBA\n",
    "season_type = 'Regular Season'\n",
    "per_mode = 'PerGame'\n",
    "player_or_team = 'P'\n",
    "play_types = ['Cut', 'Handoff', 'Isolation', 'Misc', 'OffScreen', 'Postup', 'PRBallHandler', 'PRRollman', 'OffRebound', 'Spotup', 'Transition']\n",
    "type_groupings = ['offensive', 'defensive']\n",
    "\n",
    "for season in seasons:\n",
    "    synergy_data = [] \n",
    "    \n",
    "    for type_grouping in type_groupings:\n",
    "        for play_type in play_types:\n",
    "            try:\n",
    "                # Fetch the synergy data\n",
    "                synergy = SynergyPlayTypes(\n",
    "                    league_id=league_id,\n",
    "                    per_mode_simple=per_mode,\n",
    "                    player_or_team_abbreviation=player_or_team,\n",
    "                    season_type_all_star=season_type,\n",
    "                    season=season,\n",
    "                    play_type_nullable=play_type,\n",
    "                    type_grouping_nullable=type_grouping\n",
    "                ).get_data_frames()[0]\n",
    "                \n",
    "                synergy_data.append(synergy)\n",
    "                time.sleep(0.6)  # Delay for rate limiting\n",
    "\n",
    "            except Exception as e:\n",
    "                print(f\"Failed Synergy for season: {season}, play type: {play_type}, type grouping: {type_grouping}: {e}\")\n",
    "                time.sleep(1)  # Delay before retrying on error\n",
    "\n",
    "    \n",
    "    synergy_df = pd.concat(synergy_data, ignore_index=True) if synergy_data else pd.DataFrame()\n",
    "\n",
    "    # Save\n",
    "    play_type_file = f'{season}_play_type.csv'\n",
    "    synergy_df.to_csv(play_type_file, index=False)\n",
    "\n",
    "\n",
    "\n",
    "\n",
    "        "
   ]
  }
 ],
 "metadata": {
  "kernelspec": {
   "display_name": "Python 3 (ipykernel)",
   "language": "python",
   "name": "python3"
  },
  "language_info": {
   "codemirror_mode": {
    "name": "ipython",
    "version": 3
   },
   "file_extension": ".py",
   "mimetype": "text/x-python",
   "name": "python",
   "nbconvert_exporter": "python",
   "pygments_lexer": "ipython3",
   "version": "3.11.9"
  }
 },
 "nbformat": 4,
 "nbformat_minor": 5
}
