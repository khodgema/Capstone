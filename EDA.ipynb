{
 "cells": [
  {
   "cell_type": "code",
   "execution_count": 3,
   "id": "b405daa2-6457-4d4f-a13f-661c94e2e685",
   "metadata": {},
   "outputs": [],
   "source": [
    "from nba_api.stats.endpoints import LeagueGameLog\n",
    "import pandas\n",
    "import numpy"
   ]
  },
  {
   "cell_type": "code",
   "execution_count": null,
   "id": "cf10c5b9-0d26-4e28-b65e-d94531313bfa",
   "metadata": {},
   "outputs": [],
   "source": [
    "season = '2023-24'\n",
    "game_log = LeagueGameLog(season=season, season_type_all_star='Regular Season').get_data_frames()[0]"
   ]
  },
  {
   "cell_type": "code",
   "execution_count": null,
   "id": "5e36e5a5-0dc0-40ab-b43e-c474e4cb5ef4",
   "metadata": {},
   "outputs": [],
   "source": [
    "file \n",
    "play_by_play_df = pd.read_csv()"
   ]
  }
 ],
 "metadata": {
  "kernelspec": {
   "display_name": "Python 3 (ipykernel)",
   "language": "python",
   "name": "python3"
  },
  "language_info": {
   "codemirror_mode": {
    "name": "ipython",
    "version": 3
   },
   "file_extension": ".py",
   "mimetype": "text/x-python",
   "name": "python",
   "nbconvert_exporter": "python",
   "pygments_lexer": "ipython3",
   "version": "3.11.9"
  }
 },
 "nbformat": 4,
 "nbformat_minor": 5
}
