{
 "cells": [
  {
   "cell_type": "code",
   "execution_count": 1,
   "id": "377166e6-5ba4-4e4f-b46a-afe77b795915",
   "metadata": {},
   "outputs": [],
   "source": [
    "from nba_api.stats.endpoints import ShotChartDetail, LeagueGameLog, BoxScorePlayerTrackV3, BoxScoreAdvancedV3\n",
    "import pandas as pd\n",
    "import time\n"
   ]
  },
  {
   "cell_type": "code",
   "execution_count": 2,
   "id": "b535f327-6a8c-45d8-841d-07d8a4c610e9",
   "metadata": {},
   "outputs": [],
   "source": [
    "def get_game_ids(season, season_type='Regular Season'):\n",
    "    game_log = LeagueGameLog(season=season, season_type_all_star=season_type).get_data_frames()[0]\n",
    "    game_ids = game_log['GAME_ID'].unique().tolist()\n",
    "    return game_ids\n",
    "\n",
    "def get_data(game_ids):\n",
    "    shotchart_data = []\n",
    "    playertracking_data = []\n",
    "    advanced_data = []\n",
    "    \n",
    "    for game_id in game_ids:\n",
    "        try:\n",
    "            #ShotChartDetail\n",
    "            try:\n",
    "                shotchart = ShotChartDetail(game_id_nullable=game_id, team_id=0, player_id=0).get_data_frames()[0]\n",
    "                shotchart['GAME_ID'] = game_id\n",
    "                shotchart_data.append(shotchart)\n",
    "            except Exception as e:\n",
    "                print(f\"Failed ShotChartDetail for {game_id}: {e}\")\n",
    "                time.sleep(1) \n",
    "            \n",
    "            #BoxScorePlayerTrackV3\n",
    "            try:\n",
    "                player_tracking = BoxScorePlayerTrackV3(game_id=game_id).get_data_frames()[0]\n",
    "                player_tracking['GAME_ID'] = game_id\n",
    "                playertracking_data.append(player_tracking)\n",
    "            except Exception as e:\n",
    "                print(f\"Failed BoxScorePlayerTrackV3 for {game_id}: {e}\")\n",
    "                time.sleep(1)\n",
    "            \n",
    "            #BoxScoreAdvancedV3\n",
    "            try:\n",
    "                advanced_boxscore = BoxScoreAdvancedV3(game_id=game_id).get_data_frames()[0]\n",
    "                advanced_boxscore['GAME_ID'] = game_id\n",
    "                advanced_data.append(advanced_boxscore)\n",
    "            except Exception as e:\n",
    "                print(f\"Failed BoxScoreAdvancedV3 for {game_id}: {e}\")\n",
    "                time.sleep(1)\n",
    "            \n",
    "            # rate limiting\n",
    "            time.sleep(0.6)\n",
    "        \n",
    "        except Exception as e:\n",
    "            print(f\"Unexpected error for game {game_id}: {e}\")\n",
    "            time.sleep(10)  # Longer delay in case of unexpected errors\n",
    "    \n",
    "    # Concat dataframes only if data exists\n",
    "    shotchart_df = pd.concat(shotchart_data, ignore_index=True) if shotchart_data else pd.DataFrame()\n",
    "    playertracking_df = pd.concat(playertracking_data, ignore_index=True) if playertracking_data else pd.DataFrame()\n",
    "    advanced_df = pd.concat(advanced_data, ignore_index=True) if advanced_data else pd.DataFrame()\n",
    "    \n",
    "    return shotchart_df, playertracking_df, advanced_df\n"
   ]
  },
  {
   "cell_type": "code",
   "execution_count": 4,
   "id": "570527e6-ec6b-49bf-83f5-d5fbd3ecf078",
   "metadata": {},
   "outputs": [
    {
     "name": "stdout",
     "output_type": "stream",
     "text": [
      "Failed BoxScoreAdvancedV3 for game 0022300238: HTTPSConnectionPool(host='stats.nba.com', port=443): Read timed out. (read timeout=30)\n"
     ]
    }
   ],
   "source": [
    "seasons = ['2022-23', '2023-24']\n",
    "\n",
    "for season in seasons:\n",
    "    game_ids = get_game_ids(season = season)\n",
    "\n",
    "\n",
    "    shotchart_df, playertracking_df,advanced_box_df = get_data(game_ids)\n",
    "    \n",
    "    #names\n",
    "    shotchart_file = f\"{season}_shotchart_data.csv\"\n",
    "    playertracking_file = f\"{season}_playertracking_data.csv\"\n",
    "    advanced_box_file = f\"{season}_advanced_box_data.csv\"\n",
    "    \n",
    "    \n",
    "    shotchart_df.to_csv(shotchart_file, index=False)\n",
    "    playertracking_df.to_csv(playertracking_file, index=False)\n",
    "    advanced_box_df.to_csv(advanced_box_file,index=False)\n",
    "    "
   ]
  },
  {
   "cell_type": "code",
   "execution_count": null,
   "id": "6954f73b-c3c8-4342-a9f1-166b094a1c1a",
   "metadata": {},
   "outputs": [],
   "source": [
    "#Failed BoxScoreAdvancedV3 for game 0022300238: HTTPSConnectionPool(host='stats.nba.com', port=443): Read timed out. (read timeout=30)\n"
   ]
  }
 ],
 "metadata": {
  "kernelspec": {
   "display_name": "Python 3 (ipykernel)",
   "language": "python",
   "name": "python3"
  },
  "language_info": {
   "codemirror_mode": {
    "name": "ipython",
    "version": 3
   },
   "file_extension": ".py",
   "mimetype": "text/x-python",
   "name": "python",
   "nbconvert_exporter": "python",
   "pygments_lexer": "ipython3",
   "version": "3.11.9"
  }
 },
 "nbformat": 4,
 "nbformat_minor": 5
}
